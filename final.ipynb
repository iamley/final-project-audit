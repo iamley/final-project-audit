{
 "cells": [
  {
   "cell_type": "code",
   "execution_count": 9,
   "id": "f293442b",
   "metadata": {},
   "outputs": [],
   "source": [
    "import tkinter as tk\n",
    "from tkinter import ttk\n",
    "from tkinter import *\n",
    "from tkinter.ttk import *\n",
    "from tkinter import scrolledtext as st\n",
    "import sys\n",
    "from tkinter import filedialog as fd\n",
    "from tkinter import messagebox as mb\n",
    "\n",
    "class Monitor:\n",
    "\n",
    "    def __init__(self, window):\n",
    "        # Initializations \n",
    "        self.wind = window\n",
    "        self.wind.title('Network Monitor')\n",
    "        self.scrolledtext1=st.ScrolledText(self.wind, width=400, height=40)\n",
    "        self.scrolledtext1.pack(fill=tk.BOTH, side=tk.LEFT, expand=True)\n",
    "        \n",
    "if __name__ == '__main__':\n",
    "    window = tk.Tk()\n",
    "    application = Monitor(window)\n",
    "    window.mainloop()"
   ]
  },
  {
   "cell_type": "code",
   "execution_count": null,
   "id": "cf9ef8bb",
   "metadata": {},
   "outputs": [],
   "source": []
  },
  {
   "cell_type": "code",
   "execution_count": null,
   "id": "32e05a8a",
   "metadata": {},
   "outputs": [],
   "source": []
  },
  {
   "cell_type": "code",
   "execution_count": null,
   "id": "7d0b15c1",
   "metadata": {},
   "outputs": [],
   "source": []
  },
  {
   "cell_type": "code",
   "execution_count": null,
   "id": "a0d0b6f5",
   "metadata": {},
   "outputs": [],
   "source": []
  }
 ],
 "metadata": {
  "kernelspec": {
   "display_name": "Python 3",
   "language": "python",
   "name": "python3"
  },
  "language_info": {
   "codemirror_mode": {
    "name": "ipython",
    "version": 3
   },
   "file_extension": ".py",
   "mimetype": "text/x-python",
   "name": "python",
   "nbconvert_exporter": "python",
   "pygments_lexer": "ipython3",
   "version": "3.8.8"
  }
 },
 "nbformat": 4,
 "nbformat_minor": 5
}
